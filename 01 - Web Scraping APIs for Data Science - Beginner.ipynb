{
 "cells": [
  {
   "cell_type": "markdown",
   "metadata": {},
   "source": [
    "### Import Libraries"
   ]
  },
  {
   "cell_type": "code",
   "execution_count": 2,
   "metadata": {},
   "outputs": [],
   "source": [
    "import requests\n",
    "import pandas as pd"
   ]
  },
  {
   "cell_type": "markdown",
   "metadata": {},
   "source": [
    "[Page Link ebooks](https://www.ebooks.com/en-us/subjects/computers/?ResultOrder=NewArrivals)"
   ]
  },
  {
   "cell_type": "markdown",
   "metadata": {},
   "source": [
    "### Request & CURL"
   ]
  },
  {
   "cell_type": "code",
   "execution_count": 3,
   "metadata": {},
   "outputs": [],
   "source": [
    "params = {\n",
    "    'ResultOrder': 'NewArrivals',\n",
    "    'CountryCode': 'US',\n",
    "    'subjectId': '13',\n",
    "}\n",
    "\n",
    "response = requests.get('https://www.ebooks.com/api/search/subject/', params=params)"
   ]
  },
  {
   "cell_type": "markdown",
   "metadata": {},
   "source": [
    "### Check Status Code"
   ]
  },
  {
   "cell_type": "code",
   "execution_count": 4,
   "metadata": {},
   "outputs": [
    {
     "data": {
      "text/plain": [
       "<Response [200]>"
      ]
     },
     "execution_count": 4,
     "metadata": {},
     "output_type": "execute_result"
    }
   ],
   "source": [
    "response"
   ]
  },
  {
   "cell_type": "markdown",
   "metadata": {},
   "source": [
    "### Create Json Object"
   ]
  },
  {
   "cell_type": "code",
   "execution_count": 5,
   "metadata": {
    "scrolled": true
   },
   "outputs": [
    {
     "data": {
      "text/plain": [
       "{'search_term': None,\n",
       " 'start_record': 1,\n",
       " 'total_results': 52563,\n",
       " 'books': [{'id': 210544006,\n",
       "   'book_url': '/en-us/book/210544006/stochastic-linear-programming-algorithms/janos-mayer/',\n",
       "   'image_url': 'https://image.ebooks.com/previews/210/210544/210544006/210544006-sml-1.jpg',\n",
       "   'image_alt_tag': 'Stochastic Linear Programming Algorithms: A Comparison Based on a Model Management System',\n",
       "   'title': 'Stochastic Linear Programming Algorithms',\n",
       "   'edition': '',\n",
       "   'subtitle': 'A Comparison Based on a Model Management System',\n",
       "   'authors': [{'author_name': 'Janos Mayer',\n",
       "     'author_url': '/en-us/author/janos-mayer/101082/'}],\n",
       "   'num_authors': 1,\n",
       "   'series': ' Series',\n",
       "   'series_number': '',\n",
       "   'has_series': False,\n",
       "   'series_url': '',\n",
       "   'publisher': 'CRC Press',\n",
       "   'publication_year': '2022',\n",
       "   'price': 'US$99.95',\n",
       "   'desktop_short_description': 'A computationally oriented comparison of solution algorithms for two stage and jointly chance constrained stochastic linear programming problems, this is the first book to present comparative computational results with several major stochastic programming solution approaches.\\xa0 The following methods are considered: regularized decomposition,...',\n",
       "   'mobile_short_description': 'A computationally oriented comparison of solution algorithms for two stage and jointly chance...',\n",
       "   'is_preorder': False,\n",
       "   'is_available': True,\n",
       "   'preorder_url': '/account/preorder/?bookId=210544006',\n",
       "   'add_to_cart_url': '/cart/add/210544006/',\n",
       "   'currency_symbol': 'US$',\n",
       "   'price_number': 99.95,\n",
       "   'on_sale_date': '2022-04-19T00:00:00'},\n",
       "  {'id': 210476787,\n",
       "   'book_url': '/en-us/book/210476787/security-issues-for-wireless-sensor-networks/parag-verma/',\n",
       "   'image_url': 'https://image.ebooks.com/previews/210/210476/210476787/210476787-sml-1.jpg',\n",
       "   'image_alt_tag': 'Security Issues for Wireless Sensor Networks',\n",
       "   'title': 'Security Issues for Wireless Sensor Networks',\n",
       "   'edition': '',\n",
       "   'subtitle': '',\n",
       "   'authors': [{'author_name': 'Parag Verma',\n",
       "     'author_url': '/en-us/author/parag-verma/208479725/'},\n",
       "    {'author_name': 'Ankur Dumka',\n",
       "     'author_url': '/en-us/author/ankur-dumka/208240713/'}],\n",
       "   'num_authors': 7,\n",
       "   'series': ' Series',\n",
       "   'series_number': '',\n",
       "   'has_series': False,\n",
       "   'series_url': '',\n",
       "   'publisher': 'CRC Press',\n",
       "   'publication_year': '2022',\n",
       "   'price': 'US$58.95',\n",
       "   'desktop_short_description': 'Wireless sensor networks (WSNs) have attracted high interest over the last few decades in the wireless and mobile computing research community. Applications of WSNs are numerous and growing, including indoor deployment scenarios in the home and office to outdoor deployment in an adversary’s territory in a tactical background. However, due to their...',\n",
       "   'mobile_short_description': 'Wireless sensor networks (WSNs) have attracted high interest over the last few decades in the...',\n",
       "   'is_preorder': False,\n",
       "   'is_available': True,\n",
       "   'preorder_url': '/account/preorder/?bookId=210476787',\n",
       "   'add_to_cart_url': '/cart/add/210476787/',\n",
       "   'currency_symbol': 'US$',\n",
       "   'price_number': 58.95,\n",
       "   'on_sale_date': '2022-04-19T00:00:00'},\n",
       "  {'id': 210525271,\n",
       "   'book_url': '/en-us/book/210525271/accelerating-nonprofit-impact-with-salesforce/melissa-hill-dees/',\n",
       "   'image_url': 'https://image.ebooks.com/previews/210/210525/210525271/210525271-sml-1.jpg',\n",
       "   'image_alt_tag': 'Accelerating Nonprofit Impact with Salesforce: Implement Nonprofit Cloud for efficient and cost-effective operations to drive your nonprofit mission',\n",
       "   'title': 'Accelerating Nonprofit Impact with Salesforce',\n",
       "   'edition': '',\n",
       "   'subtitle': 'Implement Nonprofit Cloud for efficient and cost-effective operations to drive your nonprofit mission',\n",
       "   'authors': [{'author_name': 'Melissa Hill Dees',\n",
       "     'author_url': '/en-us/author/melissa-hill-dees/208663615/'}],\n",
       "   'num_authors': 1,\n",
       "   'series': ' Series',\n",
       "   'series_number': '',\n",
       "   'has_series': False,\n",
       "   'series_url': '',\n",
       "   'publisher': 'Packt Publishing',\n",
       "   'publication_year': '2022',\n",
       "   'price': 'US$31.99',\n",
       "   'desktop_short_description': 'Drive digital transformation for nonprofits with well-organized volunteer management, donor engagement, fundraising, and grantmaking using the intelligent and powerful capabilities of Salesforce Nonprofit Cloud   Key Features   Implement NPSP modules to scale varied business operations in nonprofits  Administer and automate business processes and...',\n",
       "   'mobile_short_description': 'Drive digital transformation for nonprofits with well-organized volunteer management, donor...',\n",
       "   'is_preorder': False,\n",
       "   'is_available': True,\n",
       "   'preorder_url': '/account/preorder/?bookId=210525271',\n",
       "   'add_to_cart_url': '/cart/add/210525271/',\n",
       "   'currency_symbol': 'US$',\n",
       "   'price_number': 31.99,\n",
       "   'on_sale_date': '2022-04-19T00:00:00'},\n",
       "  {'id': 210522766,\n",
       "   'book_url': '/en-us/book/210522766/grokking-streaming-systems/josh-fischer/',\n",
       "   'image_url': 'https://image.ebooks.com/previews/210/210522/210522766/210522766-sml-1.jpg',\n",
       "   'image_alt_tag': 'Grokking Streaming Systems: Real-time event processing',\n",
       "   'title': 'Grokking Streaming Systems',\n",
       "   'edition': '',\n",
       "   'subtitle': 'Real-time event processing',\n",
       "   'authors': [{'author_name': 'Josh Fischer',\n",
       "     'author_url': '/en-us/author/josh-fischer/208662287/'},\n",
       "    {'author_name': 'Ning Wang',\n",
       "     'author_url': '/en-us/author/ning-wang/457327/'}],\n",
       "   'num_authors': 2,\n",
       "   'series': ' Series',\n",
       "   'series_number': '',\n",
       "   'has_series': False,\n",
       "   'series_url': '',\n",
       "   'publisher': 'Manning',\n",
       "   'publication_year': '2022',\n",
       "   'price': 'US$43.99',\n",
       "   'desktop_short_description': 'A friendly, framework-agnostic tutorial that will help you grok how streaming systems work—and how to build your own!   In  Grokking Streaming Systems  you will learn how to:   \\xa0\\xa0\\xa0 Implement and troubleshoot streaming systems  \\xa0\\xa0\\xa0 Design streaming systems for complex functionalities  \\xa0\\xa0\\xa0 Assess parallelization requirements  \\xa0\\xa0\\xa0 Spot networking...',\n",
       "   'mobile_short_description': 'A friendly, framework-agnostic tutorial that will help you grok how streaming systems work—and how...',\n",
       "   'is_preorder': False,\n",
       "   'is_available': True,\n",
       "   'preorder_url': '/account/preorder/?bookId=210522766',\n",
       "   'add_to_cart_url': '/cart/add/210522766/',\n",
       "   'currency_symbol': 'US$',\n",
       "   'price_number': 43.99,\n",
       "   'on_sale_date': '2022-04-19T00:00:00'},\n",
       "  {'id': 210514204,\n",
       "   'book_url': '/en-us/book/210514204/mastering-unity/sufyan-bin-uzayr/',\n",
       "   'image_url': 'https://image.ebooks.com/previews/210/210514/210514204/210514204-sml-1.jpg',\n",
       "   'image_alt_tag': 'Mastering Unity: A Beginner&#x27;s Guide',\n",
       "   'title': 'Mastering Unity',\n",
       "   'edition': '',\n",
       "   'subtitle': \"A Beginner's Guide\",\n",
       "   'authors': [{'author_name': 'Sufyan bin Uzayr',\n",
       "     'author_url': '/en-us/author/sufyan-bin-uzayr/94369447/'}],\n",
       "   'num_authors': 1,\n",
       "   'series': 'Mastering Computer Science Series',\n",
       "   'series_number': '',\n",
       "   'has_series': True,\n",
       "   'series_url': '/en-us/series/mastering-computer-science/',\n",
       "   'publisher': 'CRC Press',\n",
       "   'publication_year': '2022',\n",
       "   'price': 'US$29.95',\n",
       "   'desktop_short_description': 'Mastering Unity: A Beginner’s Guide    introduces developers of all ages to the beautiful and valuable world of Unity.  Unity is a popular cross-platform game engine. It was initially unveiled and distributed as a Mac OS X-exclusive game engine in June 2005 at Apple Inc.’s Worldwide Developers Conference. Unity is used to produce nearly 50% of all...',\n",
       "   'mobile_short_description': 'Mastering Unity: A Beginner’s Guide    introduces developers of all ages to the beautiful and...',\n",
       "   'is_preorder': False,\n",
       "   'is_available': True,\n",
       "   'preorder_url': '/account/preorder/?bookId=210514204',\n",
       "   'add_to_cart_url': '/cart/add/210514204/',\n",
       "   'currency_symbol': 'US$',\n",
       "   'price_number': 29.95,\n",
       "   'on_sale_date': '2022-04-18T00:00:00'},\n",
       "  {'id': 210525581,\n",
       "   'book_url': '/en-us/book/210525581/blockchain-technology-in-healthcare-applications/bharat-bhushan/',\n",
       "   'image_url': 'https://image.ebooks.com/previews/210/210525/210525581/210525581-sml-1.jpg',\n",
       "   'image_alt_tag': 'Blockchain Technology in Healthcare Applications: Social, Economic, and Technological Implications',\n",
       "   'title': 'Blockchain Technology in Healthcare Applications',\n",
       "   'edition': '',\n",
       "   'subtitle': 'Social, Economic, and Technological Implications',\n",
       "   'authors': [{'author_name': 'Bharat Bhushan',\n",
       "     'author_url': '/en-us/author/bharat-bhushan/71425/'},\n",
       "    {'author_name': 'Nitin Rakesh',\n",
       "     'author_url': '/en-us/author/nitin-rakesh/208663051/'}],\n",
       "   'num_authors': 5,\n",
       "   'series': 'Advances in Smart Healthcare Technologies Series',\n",
       "   'series_number': '',\n",
       "   'has_series': True,\n",
       "   'series_url': '/en-us/series/advances-in-smart-healthcare-technologies/',\n",
       "   'publisher': 'CRC Press',\n",
       "   'publication_year': '2022',\n",
       "   'price': 'US$58.95',\n",
       "   'desktop_short_description': 'Tremendous growth in healthcare treatment techniques and methods has led to the emergence of numerous storage and communication problems and need for security among vendors and patients. This book brings together latest applications and state-of-the-art developments in healthcare sector using Blockchain technology. It explains how blockchain can...',\n",
       "   'mobile_short_description': 'Tremendous growth in healthcare treatment techniques and methods has led to the emergence of...',\n",
       "   'is_preorder': False,\n",
       "   'is_available': True,\n",
       "   'preorder_url': '/account/preorder/?bookId=210525581',\n",
       "   'add_to_cart_url': '/cart/add/210525581/',\n",
       "   'currency_symbol': 'US$',\n",
       "   'price_number': 58.95,\n",
       "   'on_sale_date': '2022-04-18T00:00:00'},\n",
       "  {'id': 210521694,\n",
       "   'book_url': '/en-us/book/210521694/automating-salesforce-marketing-cloud/greg-gifford/',\n",
       "   'image_url': 'https://image.ebooks.com/previews/210/210521/210521694/210521694-sml-1.jpg',\n",
       "   'image_alt_tag': 'Automating Salesforce Marketing Cloud: Reap all the benefits of the SFMC platform and increase your productivity with the help of real-world examples',\n",
       "   'title': 'Automating Salesforce Marketing Cloud',\n",
       "   'edition': '',\n",
       "   'subtitle': 'Reap all the benefits of the SFMC platform and increase your productivity with the help of real-world examples',\n",
       "   'authors': [{'author_name': 'Greg Gifford',\n",
       "     'author_url': '/en-us/author/greg-gifford/208379491/'},\n",
       "    {'author_name': 'Jason Hanshaw',\n",
       "     'author_url': '/en-us/author/jason-hanshaw/208661738/'}],\n",
       "   'num_authors': 2,\n",
       "   'series': ' Series',\n",
       "   'series_number': '',\n",
       "   'has_series': False,\n",
       "   'series_url': '',\n",
       "   'publisher': 'Packt Publishing',\n",
       "   'publication_year': '2022',\n",
       "   'price': 'US$35.99',\n",
       "   'desktop_short_description': 'Make the most of Salesforce Marketing Cloud through automation and increase your productivity on the platform without adding any extra resources   Key Features   Increase your knowledge of automation theory and the applications of SFMC  Explore automation with SFMC and its capabilities beyond general usage  Understand the automation features and...',\n",
       "   'mobile_short_description': 'Make the most of Salesforce Marketing Cloud through automation and increase your productivity on the...',\n",
       "   'is_preorder': False,\n",
       "   'is_available': True,\n",
       "   'preorder_url': '/account/preorder/?bookId=210521694',\n",
       "   'add_to_cart_url': '/cart/add/210521694/',\n",
       "   'currency_symbol': 'US$',\n",
       "   'price_number': 35.99,\n",
       "   'on_sale_date': '2022-04-18T00:00:00'},\n",
       "  {'id': 210525270,\n",
       "   'book_url': '/en-us/book/210525270/test-driven-ios-development-with-swift/dr-dominik-hauser/',\n",
       "   'image_url': 'https://image.ebooks.com/previews/210/210525/210525270/210525270-sml-1.jpg',\n",
       "   'image_alt_tag': 'Test-Driven iOS Development with Swift: Write maintainable, flexible, and extensible code using the power of TDD with Swift 5.5',\n",
       "   'title': 'Test-Driven iOS Development with Swift',\n",
       "   'edition': ' (4th ed.)',\n",
       "   'subtitle': 'Write maintainable, flexible, and extensible code using the power of TDD with Swift 5.5',\n",
       "   'authors': [{'author_name': 'Dr. Dominik Hauser',\n",
       "     'author_url': '/en-us/author/dr.-dominik-hauser/94208126/'}],\n",
       "   'num_authors': 1,\n",
       "   'series': ' Series',\n",
       "   'series_number': '',\n",
       "   'has_series': False,\n",
       "   'series_url': '',\n",
       "   'publisher': 'Packt Publishing',\n",
       "   'publication_year': '2022',\n",
       "   'price': 'US$27.99',\n",
       "   'desktop_short_description': 'Build robust applications using TDD with Swift 5.5 and become a TDD expert by writing tests for view controller, views, network code, and even SwiftUI view   Key Features   Build a complete iOS app using test-driven development  Explore testing view controllers, table views, navigation, and network code  Learn how to write tests for Combine and...',\n",
       "   'mobile_short_description': 'Build robust applications using TDD with Swift 5.5 and become a TDD expert by writing tests for view...',\n",
       "   'is_preorder': False,\n",
       "   'is_available': True,\n",
       "   'preorder_url': '/account/preorder/?bookId=210525270',\n",
       "   'add_to_cart_url': '/cart/add/210525270/',\n",
       "   'currency_symbol': 'US$',\n",
       "   'price_number': 27.99,\n",
       "   'on_sale_date': '2022-04-18T00:00:00'},\n",
       "  {'id': 210545017,\n",
       "   'book_url': '/en-us/book/210545017/the-8th-international-conference-on-advanced-machine-learning-and-technologies-and-applications-amlta2022/aboul-ella-hassanien/',\n",
       "   'image_url': 'https://image.ebooks.com/previews/210/210545/210545017/210545017-sml-1.jpg',\n",
       "   'image_alt_tag': 'The 8th International Conference on Advanced Machine Learning and Technologies and Applications (AMLTA2022)',\n",
       "   'title': 'The 8th International Conference on Advanced Machine Learning and Technologies and Applications (AMLTA2022)',\n",
       "   'edition': '',\n",
       "   'subtitle': '',\n",
       "   'authors': [{'author_name': 'Aboul Ella Hassanien',\n",
       "     'author_url': '/en-us/author/aboul-ella-hassanien/109312/'},\n",
       "    {'author_name': 'Rawya Y. Rizk',\n",
       "     'author_url': '/en-us/author/rawya-y.-rizk/208672254/'}],\n",
       "   'num_authors': 4,\n",
       "   'series': 'Lecture Notes on Data Engineering and Communications Technologies Series',\n",
       "   'series_number': 'No. 113',\n",
       "   'has_series': True,\n",
       "   'series_url': '/en-us/series/lecture-notes-on-data-engineering-and-communications-technologies/',\n",
       "   'publisher': 'Springer International Publishing',\n",
       "   'publication_year': '2022',\n",
       "   'price': 'US$269.00',\n",
       "   'desktop_short_description': 'This book constitutes the refereed proceedings of the 8th International Conference on Advanced Machine Learning Technologies and Applications, AMLTA 2022, held in Cairo, Egypt, during May 5-7, 2022.&nbsp;The 8th edition of AMLTA will be organized by the Scientific Research Group in Egypt (SRGE), Egypt, collaborating with Port Said University,...',\n",
       "   'mobile_short_description': 'This book constitutes the refereed proceedings of the 8th International Conference on Advanced...',\n",
       "   'is_preorder': False,\n",
       "   'is_available': True,\n",
       "   'preorder_url': '/account/preorder/?bookId=210545017',\n",
       "   'add_to_cart_url': '/cart/add/210545017/',\n",
       "   'currency_symbol': 'US$',\n",
       "   'price_number': 269.0,\n",
       "   'on_sale_date': '2022-04-16T00:00:00'},\n",
       "  {'id': 210545230,\n",
       "   'book_url': '/en-us/book/210545230/digital-tv-and-wireless-multimedia-communications/guangtao-zhai/',\n",
       "   'image_url': 'https://image.ebooks.com/previews/210/210545/210545230/210545230-sml-1.jpg',\n",
       "   'image_alt_tag': 'Digital TV and Wireless Multimedia Communications: 18th International Forum, IFTC 2021, Shanghai, China, December 3&#x2013;4, 2021, Revised Selected Papers',\n",
       "   'title': 'Digital TV and Wireless Multimedia Communications',\n",
       "   'edition': '',\n",
       "   'subtitle': '18th International Forum, IFTC 2021, Shanghai, China, December 3–4, 2021, Revised Selected Papers',\n",
       "   'authors': [{'author_name': 'Guangtao Zhai',\n",
       "     'author_url': '/en-us/author/guangtao-zhai/1320436/'},\n",
       "    {'author_name': 'Jun Zhou',\n",
       "     'author_url': '/en-us/author/jun-zhou/463979/'}],\n",
       "   'num_authors': 5,\n",
       "   'series': 'Communications in Computer and Information Science Series',\n",
       "   'series_number': 'No. 1560',\n",
       "   'has_series': True,\n",
       "   'series_url': '/en-us/series/communications-in-computer-and-information-science/',\n",
       "   'publisher': 'Springer Singapore',\n",
       "   'publication_year': '2022',\n",
       "   'price': 'US$99.00',\n",
       "   'desktop_short_description': 'This book presents revised selected papers from the 18th International Forum on Digital TV and Wireless Multimedia Communication, IFTC 2021, held in Shanghai, China, in December 2021. The 41 papers presented in this volume were carefully reviewed and selected from 110 submissions. They were organized in topical sections on image analysis; quality...',\n",
       "   'mobile_short_description': 'This book presents revised selected papers from the 18th International Forum on Digital TV and...',\n",
       "   'is_preorder': False,\n",
       "   'is_available': True,\n",
       "   'preorder_url': '/account/preorder/?bookId=210545230',\n",
       "   'add_to_cart_url': '/cart/add/210545230/',\n",
       "   'currency_symbol': 'US$',\n",
       "   'price_number': 99.0,\n",
       "   'on_sale_date': '2022-04-16T00:00:00'}],\n",
       " 'pages': [{'number': '1',\n",
       "   'is_selected': True,\n",
       "   'show_mobile': True,\n",
       "   'show_tablet': True,\n",
       "   'search_url': '/en-us/subjects/computers/?ResultOrder=NewArrivals'},\n",
       "  {'number': '2',\n",
       "   'is_selected': False,\n",
       "   'show_mobile': True,\n",
       "   'show_tablet': True,\n",
       "   'search_url': '/en-us/subjects/computers/?ResultOrder=NewArrivals&pageNumber=2'},\n",
       "  {'number': '3',\n",
       "   'is_selected': False,\n",
       "   'show_mobile': True,\n",
       "   'show_tablet': True,\n",
       "   'search_url': '/en-us/subjects/computers/?ResultOrder=NewArrivals&pageNumber=3'},\n",
       "  {'number': '4',\n",
       "   'is_selected': False,\n",
       "   'show_mobile': True,\n",
       "   'show_tablet': True,\n",
       "   'search_url': '/en-us/subjects/computers/?ResultOrder=NewArrivals&pageNumber=4'},\n",
       "  {'number': '5',\n",
       "   'is_selected': False,\n",
       "   'show_mobile': True,\n",
       "   'show_tablet': True,\n",
       "   'search_url': '/en-us/subjects/computers/?ResultOrder=NewArrivals&pageNumber=5'},\n",
       "  {'number': '6',\n",
       "   'is_selected': False,\n",
       "   'show_mobile': False,\n",
       "   'show_tablet': True,\n",
       "   'search_url': '/en-us/subjects/computers/?ResultOrder=NewArrivals&pageNumber=6'},\n",
       "  {'number': '7',\n",
       "   'is_selected': False,\n",
       "   'show_mobile': False,\n",
       "   'show_tablet': True,\n",
       "   'search_url': '/en-us/subjects/computers/?ResultOrder=NewArrivals&pageNumber=7'},\n",
       "  {'number': '8',\n",
       "   'is_selected': False,\n",
       "   'show_mobile': False,\n",
       "   'show_tablet': True,\n",
       "   'search_url': '/en-us/subjects/computers/?ResultOrder=NewArrivals&pageNumber=8'},\n",
       "  {'number': '9',\n",
       "   'is_selected': False,\n",
       "   'show_mobile': False,\n",
       "   'show_tablet': False,\n",
       "   'search_url': '/en-us/subjects/computers/?ResultOrder=NewArrivals&pageNumber=9'}],\n",
       " 'previous_page': None,\n",
       " 'next_page': '/en-us/subjects/computers/?ResultOrder=NewArrivals&pageNumber=2'}"
      ]
     },
     "execution_count": 5,
     "metadata": {},
     "output_type": "execute_result"
    }
   ],
   "source": [
    "response.json()"
   ]
  },
  {
   "cell_type": "code",
   "execution_count": 6,
   "metadata": {},
   "outputs": [
    {
     "data": {
      "text/plain": [
       "dict"
      ]
     },
     "execution_count": 6,
     "metadata": {},
     "output_type": "execute_result"
    }
   ],
   "source": [
    "type(response.json())"
   ]
  },
  {
   "cell_type": "markdown",
   "metadata": {},
   "source": [
    "### Output Keys"
   ]
  },
  {
   "cell_type": "code",
   "execution_count": 7,
   "metadata": {},
   "outputs": [
    {
     "data": {
      "text/plain": [
       "dict_keys(['search_term', 'start_record', 'total_results', 'books', 'pages', 'previous_page', 'next_page'])"
      ]
     },
     "execution_count": 7,
     "metadata": {},
     "output_type": "execute_result"
    }
   ],
   "source": [
    "response.json().keys()"
   ]
  },
  {
   "cell_type": "markdown",
   "metadata": {},
   "source": [
    "### Find The Data"
   ]
  },
  {
   "cell_type": "code",
   "execution_count": 8,
   "metadata": {},
   "outputs": [],
   "source": [
    "#title\n",
    "#subtitle\n",
    "#author\n",
    "#publisher\n",
    "#publication year\n",
    "#price"
   ]
  },
  {
   "cell_type": "code",
   "execution_count": 9,
   "metadata": {
    "scrolled": true
   },
   "outputs": [
    {
     "data": {
      "text/plain": [
       "[{'id': 210544006,\n",
       "  'book_url': '/en-us/book/210544006/stochastic-linear-programming-algorithms/janos-mayer/',\n",
       "  'image_url': 'https://image.ebooks.com/previews/210/210544/210544006/210544006-sml-1.jpg',\n",
       "  'image_alt_tag': 'Stochastic Linear Programming Algorithms: A Comparison Based on a Model Management System',\n",
       "  'title': 'Stochastic Linear Programming Algorithms',\n",
       "  'edition': '',\n",
       "  'subtitle': 'A Comparison Based on a Model Management System',\n",
       "  'authors': [{'author_name': 'Janos Mayer',\n",
       "    'author_url': '/en-us/author/janos-mayer/101082/'}],\n",
       "  'num_authors': 1,\n",
       "  'series': ' Series',\n",
       "  'series_number': '',\n",
       "  'has_series': False,\n",
       "  'series_url': '',\n",
       "  'publisher': 'CRC Press',\n",
       "  'publication_year': '2022',\n",
       "  'price': 'US$99.95',\n",
       "  'desktop_short_description': 'A computationally oriented comparison of solution algorithms for two stage and jointly chance constrained stochastic linear programming problems, this is the first book to present comparative computational results with several major stochastic programming solution approaches.\\xa0 The following methods are considered: regularized decomposition,...',\n",
       "  'mobile_short_description': 'A computationally oriented comparison of solution algorithms for two stage and jointly chance...',\n",
       "  'is_preorder': False,\n",
       "  'is_available': True,\n",
       "  'preorder_url': '/account/preorder/?bookId=210544006',\n",
       "  'add_to_cart_url': '/cart/add/210544006/',\n",
       "  'currency_symbol': 'US$',\n",
       "  'price_number': 99.95,\n",
       "  'on_sale_date': '2022-04-19T00:00:00'},\n",
       " {'id': 210476787,\n",
       "  'book_url': '/en-us/book/210476787/security-issues-for-wireless-sensor-networks/parag-verma/',\n",
       "  'image_url': 'https://image.ebooks.com/previews/210/210476/210476787/210476787-sml-1.jpg',\n",
       "  'image_alt_tag': 'Security Issues for Wireless Sensor Networks',\n",
       "  'title': 'Security Issues for Wireless Sensor Networks',\n",
       "  'edition': '',\n",
       "  'subtitle': '',\n",
       "  'authors': [{'author_name': 'Parag Verma',\n",
       "    'author_url': '/en-us/author/parag-verma/208479725/'},\n",
       "   {'author_name': 'Ankur Dumka',\n",
       "    'author_url': '/en-us/author/ankur-dumka/208240713/'}],\n",
       "  'num_authors': 7,\n",
       "  'series': ' Series',\n",
       "  'series_number': '',\n",
       "  'has_series': False,\n",
       "  'series_url': '',\n",
       "  'publisher': 'CRC Press',\n",
       "  'publication_year': '2022',\n",
       "  'price': 'US$58.95',\n",
       "  'desktop_short_description': 'Wireless sensor networks (WSNs) have attracted high interest over the last few decades in the wireless and mobile computing research community. Applications of WSNs are numerous and growing, including indoor deployment scenarios in the home and office to outdoor deployment in an adversary’s territory in a tactical background. However, due to their...',\n",
       "  'mobile_short_description': 'Wireless sensor networks (WSNs) have attracted high interest over the last few decades in the...',\n",
       "  'is_preorder': False,\n",
       "  'is_available': True,\n",
       "  'preorder_url': '/account/preorder/?bookId=210476787',\n",
       "  'add_to_cart_url': '/cart/add/210476787/',\n",
       "  'currency_symbol': 'US$',\n",
       "  'price_number': 58.95,\n",
       "  'on_sale_date': '2022-04-19T00:00:00'},\n",
       " {'id': 210525271,\n",
       "  'book_url': '/en-us/book/210525271/accelerating-nonprofit-impact-with-salesforce/melissa-hill-dees/',\n",
       "  'image_url': 'https://image.ebooks.com/previews/210/210525/210525271/210525271-sml-1.jpg',\n",
       "  'image_alt_tag': 'Accelerating Nonprofit Impact with Salesforce: Implement Nonprofit Cloud for efficient and cost-effective operations to drive your nonprofit mission',\n",
       "  'title': 'Accelerating Nonprofit Impact with Salesforce',\n",
       "  'edition': '',\n",
       "  'subtitle': 'Implement Nonprofit Cloud for efficient and cost-effective operations to drive your nonprofit mission',\n",
       "  'authors': [{'author_name': 'Melissa Hill Dees',\n",
       "    'author_url': '/en-us/author/melissa-hill-dees/208663615/'}],\n",
       "  'num_authors': 1,\n",
       "  'series': ' Series',\n",
       "  'series_number': '',\n",
       "  'has_series': False,\n",
       "  'series_url': '',\n",
       "  'publisher': 'Packt Publishing',\n",
       "  'publication_year': '2022',\n",
       "  'price': 'US$31.99',\n",
       "  'desktop_short_description': 'Drive digital transformation for nonprofits with well-organized volunteer management, donor engagement, fundraising, and grantmaking using the intelligent and powerful capabilities of Salesforce Nonprofit Cloud   Key Features   Implement NPSP modules to scale varied business operations in nonprofits  Administer and automate business processes and...',\n",
       "  'mobile_short_description': 'Drive digital transformation for nonprofits with well-organized volunteer management, donor...',\n",
       "  'is_preorder': False,\n",
       "  'is_available': True,\n",
       "  'preorder_url': '/account/preorder/?bookId=210525271',\n",
       "  'add_to_cart_url': '/cart/add/210525271/',\n",
       "  'currency_symbol': 'US$',\n",
       "  'price_number': 31.99,\n",
       "  'on_sale_date': '2022-04-19T00:00:00'},\n",
       " {'id': 210522766,\n",
       "  'book_url': '/en-us/book/210522766/grokking-streaming-systems/josh-fischer/',\n",
       "  'image_url': 'https://image.ebooks.com/previews/210/210522/210522766/210522766-sml-1.jpg',\n",
       "  'image_alt_tag': 'Grokking Streaming Systems: Real-time event processing',\n",
       "  'title': 'Grokking Streaming Systems',\n",
       "  'edition': '',\n",
       "  'subtitle': 'Real-time event processing',\n",
       "  'authors': [{'author_name': 'Josh Fischer',\n",
       "    'author_url': '/en-us/author/josh-fischer/208662287/'},\n",
       "   {'author_name': 'Ning Wang',\n",
       "    'author_url': '/en-us/author/ning-wang/457327/'}],\n",
       "  'num_authors': 2,\n",
       "  'series': ' Series',\n",
       "  'series_number': '',\n",
       "  'has_series': False,\n",
       "  'series_url': '',\n",
       "  'publisher': 'Manning',\n",
       "  'publication_year': '2022',\n",
       "  'price': 'US$43.99',\n",
       "  'desktop_short_description': 'A friendly, framework-agnostic tutorial that will help you grok how streaming systems work—and how to build your own!   In  Grokking Streaming Systems  you will learn how to:   \\xa0\\xa0\\xa0 Implement and troubleshoot streaming systems  \\xa0\\xa0\\xa0 Design streaming systems for complex functionalities  \\xa0\\xa0\\xa0 Assess parallelization requirements  \\xa0\\xa0\\xa0 Spot networking...',\n",
       "  'mobile_short_description': 'A friendly, framework-agnostic tutorial that will help you grok how streaming systems work—and how...',\n",
       "  'is_preorder': False,\n",
       "  'is_available': True,\n",
       "  'preorder_url': '/account/preorder/?bookId=210522766',\n",
       "  'add_to_cart_url': '/cart/add/210522766/',\n",
       "  'currency_symbol': 'US$',\n",
       "  'price_number': 43.99,\n",
       "  'on_sale_date': '2022-04-19T00:00:00'},\n",
       " {'id': 210514204,\n",
       "  'book_url': '/en-us/book/210514204/mastering-unity/sufyan-bin-uzayr/',\n",
       "  'image_url': 'https://image.ebooks.com/previews/210/210514/210514204/210514204-sml-1.jpg',\n",
       "  'image_alt_tag': 'Mastering Unity: A Beginner&#x27;s Guide',\n",
       "  'title': 'Mastering Unity',\n",
       "  'edition': '',\n",
       "  'subtitle': \"A Beginner's Guide\",\n",
       "  'authors': [{'author_name': 'Sufyan bin Uzayr',\n",
       "    'author_url': '/en-us/author/sufyan-bin-uzayr/94369447/'}],\n",
       "  'num_authors': 1,\n",
       "  'series': 'Mastering Computer Science Series',\n",
       "  'series_number': '',\n",
       "  'has_series': True,\n",
       "  'series_url': '/en-us/series/mastering-computer-science/',\n",
       "  'publisher': 'CRC Press',\n",
       "  'publication_year': '2022',\n",
       "  'price': 'US$29.95',\n",
       "  'desktop_short_description': 'Mastering Unity: A Beginner’s Guide    introduces developers of all ages to the beautiful and valuable world of Unity.  Unity is a popular cross-platform game engine. It was initially unveiled and distributed as a Mac OS X-exclusive game engine in June 2005 at Apple Inc.’s Worldwide Developers Conference. Unity is used to produce nearly 50% of all...',\n",
       "  'mobile_short_description': 'Mastering Unity: A Beginner’s Guide    introduces developers of all ages to the beautiful and...',\n",
       "  'is_preorder': False,\n",
       "  'is_available': True,\n",
       "  'preorder_url': '/account/preorder/?bookId=210514204',\n",
       "  'add_to_cart_url': '/cart/add/210514204/',\n",
       "  'currency_symbol': 'US$',\n",
       "  'price_number': 29.95,\n",
       "  'on_sale_date': '2022-04-18T00:00:00'},\n",
       " {'id': 210525581,\n",
       "  'book_url': '/en-us/book/210525581/blockchain-technology-in-healthcare-applications/bharat-bhushan/',\n",
       "  'image_url': 'https://image.ebooks.com/previews/210/210525/210525581/210525581-sml-1.jpg',\n",
       "  'image_alt_tag': 'Blockchain Technology in Healthcare Applications: Social, Economic, and Technological Implications',\n",
       "  'title': 'Blockchain Technology in Healthcare Applications',\n",
       "  'edition': '',\n",
       "  'subtitle': 'Social, Economic, and Technological Implications',\n",
       "  'authors': [{'author_name': 'Bharat Bhushan',\n",
       "    'author_url': '/en-us/author/bharat-bhushan/71425/'},\n",
       "   {'author_name': 'Nitin Rakesh',\n",
       "    'author_url': '/en-us/author/nitin-rakesh/208663051/'}],\n",
       "  'num_authors': 5,\n",
       "  'series': 'Advances in Smart Healthcare Technologies Series',\n",
       "  'series_number': '',\n",
       "  'has_series': True,\n",
       "  'series_url': '/en-us/series/advances-in-smart-healthcare-technologies/',\n",
       "  'publisher': 'CRC Press',\n",
       "  'publication_year': '2022',\n",
       "  'price': 'US$58.95',\n",
       "  'desktop_short_description': 'Tremendous growth in healthcare treatment techniques and methods has led to the emergence of numerous storage and communication problems and need for security among vendors and patients. This book brings together latest applications and state-of-the-art developments in healthcare sector using Blockchain technology. It explains how blockchain can...',\n",
       "  'mobile_short_description': 'Tremendous growth in healthcare treatment techniques and methods has led to the emergence of...',\n",
       "  'is_preorder': False,\n",
       "  'is_available': True,\n",
       "  'preorder_url': '/account/preorder/?bookId=210525581',\n",
       "  'add_to_cart_url': '/cart/add/210525581/',\n",
       "  'currency_symbol': 'US$',\n",
       "  'price_number': 58.95,\n",
       "  'on_sale_date': '2022-04-18T00:00:00'},\n",
       " {'id': 210521694,\n",
       "  'book_url': '/en-us/book/210521694/automating-salesforce-marketing-cloud/greg-gifford/',\n",
       "  'image_url': 'https://image.ebooks.com/previews/210/210521/210521694/210521694-sml-1.jpg',\n",
       "  'image_alt_tag': 'Automating Salesforce Marketing Cloud: Reap all the benefits of the SFMC platform and increase your productivity with the help of real-world examples',\n",
       "  'title': 'Automating Salesforce Marketing Cloud',\n",
       "  'edition': '',\n",
       "  'subtitle': 'Reap all the benefits of the SFMC platform and increase your productivity with the help of real-world examples',\n",
       "  'authors': [{'author_name': 'Greg Gifford',\n",
       "    'author_url': '/en-us/author/greg-gifford/208379491/'},\n",
       "   {'author_name': 'Jason Hanshaw',\n",
       "    'author_url': '/en-us/author/jason-hanshaw/208661738/'}],\n",
       "  'num_authors': 2,\n",
       "  'series': ' Series',\n",
       "  'series_number': '',\n",
       "  'has_series': False,\n",
       "  'series_url': '',\n",
       "  'publisher': 'Packt Publishing',\n",
       "  'publication_year': '2022',\n",
       "  'price': 'US$35.99',\n",
       "  'desktop_short_description': 'Make the most of Salesforce Marketing Cloud through automation and increase your productivity on the platform without adding any extra resources   Key Features   Increase your knowledge of automation theory and the applications of SFMC  Explore automation with SFMC and its capabilities beyond general usage  Understand the automation features and...',\n",
       "  'mobile_short_description': 'Make the most of Salesforce Marketing Cloud through automation and increase your productivity on the...',\n",
       "  'is_preorder': False,\n",
       "  'is_available': True,\n",
       "  'preorder_url': '/account/preorder/?bookId=210521694',\n",
       "  'add_to_cart_url': '/cart/add/210521694/',\n",
       "  'currency_symbol': 'US$',\n",
       "  'price_number': 35.99,\n",
       "  'on_sale_date': '2022-04-18T00:00:00'},\n",
       " {'id': 210525270,\n",
       "  'book_url': '/en-us/book/210525270/test-driven-ios-development-with-swift/dr-dominik-hauser/',\n",
       "  'image_url': 'https://image.ebooks.com/previews/210/210525/210525270/210525270-sml-1.jpg',\n",
       "  'image_alt_tag': 'Test-Driven iOS Development with Swift: Write maintainable, flexible, and extensible code using the power of TDD with Swift 5.5',\n",
       "  'title': 'Test-Driven iOS Development with Swift',\n",
       "  'edition': ' (4th ed.)',\n",
       "  'subtitle': 'Write maintainable, flexible, and extensible code using the power of TDD with Swift 5.5',\n",
       "  'authors': [{'author_name': 'Dr. Dominik Hauser',\n",
       "    'author_url': '/en-us/author/dr.-dominik-hauser/94208126/'}],\n",
       "  'num_authors': 1,\n",
       "  'series': ' Series',\n",
       "  'series_number': '',\n",
       "  'has_series': False,\n",
       "  'series_url': '',\n",
       "  'publisher': 'Packt Publishing',\n",
       "  'publication_year': '2022',\n",
       "  'price': 'US$27.99',\n",
       "  'desktop_short_description': 'Build robust applications using TDD with Swift 5.5 and become a TDD expert by writing tests for view controller, views, network code, and even SwiftUI view   Key Features   Build a complete iOS app using test-driven development  Explore testing view controllers, table views, navigation, and network code  Learn how to write tests for Combine and...',\n",
       "  'mobile_short_description': 'Build robust applications using TDD with Swift 5.5 and become a TDD expert by writing tests for view...',\n",
       "  'is_preorder': False,\n",
       "  'is_available': True,\n",
       "  'preorder_url': '/account/preorder/?bookId=210525270',\n",
       "  'add_to_cart_url': '/cart/add/210525270/',\n",
       "  'currency_symbol': 'US$',\n",
       "  'price_number': 27.99,\n",
       "  'on_sale_date': '2022-04-18T00:00:00'},\n",
       " {'id': 210545017,\n",
       "  'book_url': '/en-us/book/210545017/the-8th-international-conference-on-advanced-machine-learning-and-technologies-and-applications-amlta2022/aboul-ella-hassanien/',\n",
       "  'image_url': 'https://image.ebooks.com/previews/210/210545/210545017/210545017-sml-1.jpg',\n",
       "  'image_alt_tag': 'The 8th International Conference on Advanced Machine Learning and Technologies and Applications (AMLTA2022)',\n",
       "  'title': 'The 8th International Conference on Advanced Machine Learning and Technologies and Applications (AMLTA2022)',\n",
       "  'edition': '',\n",
       "  'subtitle': '',\n",
       "  'authors': [{'author_name': 'Aboul Ella Hassanien',\n",
       "    'author_url': '/en-us/author/aboul-ella-hassanien/109312/'},\n",
       "   {'author_name': 'Rawya Y. Rizk',\n",
       "    'author_url': '/en-us/author/rawya-y.-rizk/208672254/'}],\n",
       "  'num_authors': 4,\n",
       "  'series': 'Lecture Notes on Data Engineering and Communications Technologies Series',\n",
       "  'series_number': 'No. 113',\n",
       "  'has_series': True,\n",
       "  'series_url': '/en-us/series/lecture-notes-on-data-engineering-and-communications-technologies/',\n",
       "  'publisher': 'Springer International Publishing',\n",
       "  'publication_year': '2022',\n",
       "  'price': 'US$269.00',\n",
       "  'desktop_short_description': 'This book constitutes the refereed proceedings of the 8th International Conference on Advanced Machine Learning Technologies and Applications, AMLTA 2022, held in Cairo, Egypt, during May 5-7, 2022.&nbsp;The 8th edition of AMLTA will be organized by the Scientific Research Group in Egypt (SRGE), Egypt, collaborating with Port Said University,...',\n",
       "  'mobile_short_description': 'This book constitutes the refereed proceedings of the 8th International Conference on Advanced...',\n",
       "  'is_preorder': False,\n",
       "  'is_available': True,\n",
       "  'preorder_url': '/account/preorder/?bookId=210545017',\n",
       "  'add_to_cart_url': '/cart/add/210545017/',\n",
       "  'currency_symbol': 'US$',\n",
       "  'price_number': 269.0,\n",
       "  'on_sale_date': '2022-04-16T00:00:00'},\n",
       " {'id': 210545230,\n",
       "  'book_url': '/en-us/book/210545230/digital-tv-and-wireless-multimedia-communications/guangtao-zhai/',\n",
       "  'image_url': 'https://image.ebooks.com/previews/210/210545/210545230/210545230-sml-1.jpg',\n",
       "  'image_alt_tag': 'Digital TV and Wireless Multimedia Communications: 18th International Forum, IFTC 2021, Shanghai, China, December 3&#x2013;4, 2021, Revised Selected Papers',\n",
       "  'title': 'Digital TV and Wireless Multimedia Communications',\n",
       "  'edition': '',\n",
       "  'subtitle': '18th International Forum, IFTC 2021, Shanghai, China, December 3–4, 2021, Revised Selected Papers',\n",
       "  'authors': [{'author_name': 'Guangtao Zhai',\n",
       "    'author_url': '/en-us/author/guangtao-zhai/1320436/'},\n",
       "   {'author_name': 'Jun Zhou',\n",
       "    'author_url': '/en-us/author/jun-zhou/463979/'}],\n",
       "  'num_authors': 5,\n",
       "  'series': 'Communications in Computer and Information Science Series',\n",
       "  'series_number': 'No. 1560',\n",
       "  'has_series': True,\n",
       "  'series_url': '/en-us/series/communications-in-computer-and-information-science/',\n",
       "  'publisher': 'Springer Singapore',\n",
       "  'publication_year': '2022',\n",
       "  'price': 'US$99.00',\n",
       "  'desktop_short_description': 'This book presents revised selected papers from the 18th International Forum on Digital TV and Wireless Multimedia Communication, IFTC 2021, held in Shanghai, China, in December 2021. The 41 papers presented in this volume were carefully reviewed and selected from 110 submissions. They were organized in topical sections on image analysis; quality...',\n",
       "  'mobile_short_description': 'This book presents revised selected papers from the 18th International Forum on Digital TV and...',\n",
       "  'is_preorder': False,\n",
       "  'is_available': True,\n",
       "  'preorder_url': '/account/preorder/?bookId=210545230',\n",
       "  'add_to_cart_url': '/cart/add/210545230/',\n",
       "  'currency_symbol': 'US$',\n",
       "  'price_number': 99.0,\n",
       "  'on_sale_date': '2022-04-16T00:00:00'}]"
      ]
     },
     "execution_count": 9,
     "metadata": {},
     "output_type": "execute_result"
    }
   ],
   "source": [
    "response.json()['books']"
   ]
  },
  {
   "cell_type": "code",
   "execution_count": 10,
   "metadata": {},
   "outputs": [
    {
     "data": {
      "text/plain": [
       "10"
      ]
     },
     "execution_count": 10,
     "metadata": {},
     "output_type": "execute_result"
    }
   ],
   "source": [
    "len(response.json()['books'])"
   ]
  },
  {
   "cell_type": "code",
   "execution_count": 11,
   "metadata": {},
   "outputs": [],
   "source": [
    "result_json = response.json()['books']"
   ]
  },
  {
   "cell_type": "code",
   "execution_count": 12,
   "metadata": {},
   "outputs": [
    {
     "data": {
      "text/plain": [
       "'Stochastic Linear Programming Algorithms'"
      ]
     },
     "execution_count": 12,
     "metadata": {},
     "output_type": "execute_result"
    }
   ],
   "source": [
    "#title\n",
    "result_json[0]['title']"
   ]
  },
  {
   "cell_type": "code",
   "execution_count": 13,
   "metadata": {},
   "outputs": [
    {
     "data": {
      "text/plain": [
       "'A Comparison Based on a Model Management System'"
      ]
     },
     "execution_count": 13,
     "metadata": {},
     "output_type": "execute_result"
    }
   ],
   "source": [
    "#subtitle\n",
    "result_json[0]['subtitle']"
   ]
  },
  {
   "cell_type": "code",
   "execution_count": 14,
   "metadata": {},
   "outputs": [
    {
     "data": {
      "text/plain": [
       "'Janos Mayer'"
      ]
     },
     "execution_count": 14,
     "metadata": {},
     "output_type": "execute_result"
    }
   ],
   "source": [
    "#author\n",
    "result_json[0]['authors'][0]['author_name']"
   ]
  },
  {
   "cell_type": "code",
   "execution_count": 15,
   "metadata": {},
   "outputs": [
    {
     "data": {
      "text/plain": [
       "'CRC Press'"
      ]
     },
     "execution_count": 15,
     "metadata": {},
     "output_type": "execute_result"
    }
   ],
   "source": [
    "#publisher\n",
    "result_json[0]['publisher']"
   ]
  },
  {
   "cell_type": "code",
   "execution_count": 16,
   "metadata": {},
   "outputs": [
    {
     "data": {
      "text/plain": [
       "'2022'"
      ]
     },
     "execution_count": 16,
     "metadata": {},
     "output_type": "execute_result"
    }
   ],
   "source": [
    "#publication year\n",
    "result_json[0]['publication_year']"
   ]
  },
  {
   "cell_type": "code",
   "execution_count": 17,
   "metadata": {
    "scrolled": true
   },
   "outputs": [
    {
     "data": {
      "text/plain": [
       "'US$99.95'"
      ]
     },
     "execution_count": 17,
     "metadata": {},
     "output_type": "execute_result"
    }
   ],
   "source": [
    "#price\n",
    "result_json[0]['price']"
   ]
  },
  {
   "cell_type": "markdown",
   "metadata": {},
   "source": [
    "### Loop Through Results and append data inside a list"
   ]
  },
  {
   "cell_type": "code",
   "execution_count": 18,
   "metadata": {},
   "outputs": [],
   "source": [
    "title = []\n",
    "subtitle = []\n",
    "author = []\n",
    "publisher = []\n",
    "publication_year = []\n",
    "price = []\n",
    "\n",
    "for result in result_json:\n",
    "    #title\n",
    "    title.append(result['title'])\n",
    "    \n",
    "    #subtitle\n",
    "    subtitle.append(result['subtitle'])\n",
    "    \n",
    "    #author\n",
    "    author.append(result['authors'][0]['author_name'])\n",
    "    \n",
    "    #publisher\n",
    "    publisher.append(result['publisher'])\n",
    "    \n",
    "    #publication year\n",
    "    publication_year.append(result['publication_year'])\n",
    "    \n",
    "    #price\n",
    "    price.append(result['price'])"
   ]
  },
  {
   "cell_type": "markdown",
   "metadata": {},
   "source": [
    "### Pandas DataFrame"
   ]
  },
  {
   "cell_type": "code",
   "execution_count": 19,
   "metadata": {},
   "outputs": [],
   "source": [
    "books = pd.DataFrame({'Title':title,'Subtitles':subtitle,'Authors':author,'Publisher':publisher,\n",
    "                     'Publication Year':publication_year})"
   ]
  },
  {
   "cell_type": "code",
   "execution_count": 20,
   "metadata": {
    "scrolled": true
   },
   "outputs": [
    {
     "data": {
      "text/html": [
       "<div>\n",
       "<style scoped>\n",
       "    .dataframe tbody tr th:only-of-type {\n",
       "        vertical-align: middle;\n",
       "    }\n",
       "\n",
       "    .dataframe tbody tr th {\n",
       "        vertical-align: top;\n",
       "    }\n",
       "\n",
       "    .dataframe thead th {\n",
       "        text-align: right;\n",
       "    }\n",
       "</style>\n",
       "<table border=\"1\" class=\"dataframe\">\n",
       "  <thead>\n",
       "    <tr style=\"text-align: right;\">\n",
       "      <th></th>\n",
       "      <th>Title</th>\n",
       "      <th>Subtitles</th>\n",
       "      <th>Authors</th>\n",
       "      <th>Publisher</th>\n",
       "      <th>Publication Year</th>\n",
       "    </tr>\n",
       "  </thead>\n",
       "  <tbody>\n",
       "    <tr>\n",
       "      <th>0</th>\n",
       "      <td>Stochastic Linear Programming Algorithms</td>\n",
       "      <td>A Comparison Based on a Model Management System</td>\n",
       "      <td>Janos Mayer</td>\n",
       "      <td>CRC Press</td>\n",
       "      <td>2022</td>\n",
       "    </tr>\n",
       "    <tr>\n",
       "      <th>1</th>\n",
       "      <td>Security Issues for Wireless Sensor Networks</td>\n",
       "      <td></td>\n",
       "      <td>Parag Verma</td>\n",
       "      <td>CRC Press</td>\n",
       "      <td>2022</td>\n",
       "    </tr>\n",
       "    <tr>\n",
       "      <th>2</th>\n",
       "      <td>Accelerating Nonprofit Impact with Salesforce</td>\n",
       "      <td>Implement Nonprofit Cloud for efficient and co...</td>\n",
       "      <td>Melissa Hill Dees</td>\n",
       "      <td>Packt Publishing</td>\n",
       "      <td>2022</td>\n",
       "    </tr>\n",
       "    <tr>\n",
       "      <th>3</th>\n",
       "      <td>Grokking Streaming Systems</td>\n",
       "      <td>Real-time event processing</td>\n",
       "      <td>Josh Fischer</td>\n",
       "      <td>Manning</td>\n",
       "      <td>2022</td>\n",
       "    </tr>\n",
       "    <tr>\n",
       "      <th>4</th>\n",
       "      <td>Mastering Unity</td>\n",
       "      <td>A Beginner's Guide</td>\n",
       "      <td>Sufyan bin Uzayr</td>\n",
       "      <td>CRC Press</td>\n",
       "      <td>2022</td>\n",
       "    </tr>\n",
       "    <tr>\n",
       "      <th>5</th>\n",
       "      <td>Blockchain Technology in Healthcare Applications</td>\n",
       "      <td>Social, Economic, and Technological Implications</td>\n",
       "      <td>Bharat Bhushan</td>\n",
       "      <td>CRC Press</td>\n",
       "      <td>2022</td>\n",
       "    </tr>\n",
       "    <tr>\n",
       "      <th>6</th>\n",
       "      <td>Automating Salesforce Marketing Cloud</td>\n",
       "      <td>Reap all the benefits of the SFMC platform and...</td>\n",
       "      <td>Greg Gifford</td>\n",
       "      <td>Packt Publishing</td>\n",
       "      <td>2022</td>\n",
       "    </tr>\n",
       "    <tr>\n",
       "      <th>7</th>\n",
       "      <td>Test-Driven iOS Development with Swift</td>\n",
       "      <td>Write maintainable, flexible, and extensible c...</td>\n",
       "      <td>Dr. Dominik Hauser</td>\n",
       "      <td>Packt Publishing</td>\n",
       "      <td>2022</td>\n",
       "    </tr>\n",
       "    <tr>\n",
       "      <th>8</th>\n",
       "      <td>The 8th International Conference on Advanced M...</td>\n",
       "      <td></td>\n",
       "      <td>Aboul Ella Hassanien</td>\n",
       "      <td>Springer International Publishing</td>\n",
       "      <td>2022</td>\n",
       "    </tr>\n",
       "    <tr>\n",
       "      <th>9</th>\n",
       "      <td>Digital TV and Wireless Multimedia Communications</td>\n",
       "      <td>18th International Forum, IFTC 2021, Shanghai,...</td>\n",
       "      <td>Guangtao Zhai</td>\n",
       "      <td>Springer Singapore</td>\n",
       "      <td>2022</td>\n",
       "    </tr>\n",
       "  </tbody>\n",
       "</table>\n",
       "</div>"
      ],
      "text/plain": [
       "                                               Title  \\\n",
       "0           Stochastic Linear Programming Algorithms   \n",
       "1       Security Issues for Wireless Sensor Networks   \n",
       "2      Accelerating Nonprofit Impact with Salesforce   \n",
       "3                         Grokking Streaming Systems   \n",
       "4                                    Mastering Unity   \n",
       "5   Blockchain Technology in Healthcare Applications   \n",
       "6              Automating Salesforce Marketing Cloud   \n",
       "7             Test-Driven iOS Development with Swift   \n",
       "8  The 8th International Conference on Advanced M...   \n",
       "9  Digital TV and Wireless Multimedia Communications   \n",
       "\n",
       "                                           Subtitles               Authors  \\\n",
       "0    A Comparison Based on a Model Management System           Janos Mayer   \n",
       "1                                                              Parag Verma   \n",
       "2  Implement Nonprofit Cloud for efficient and co...     Melissa Hill Dees   \n",
       "3                         Real-time event processing          Josh Fischer   \n",
       "4                                 A Beginner's Guide      Sufyan bin Uzayr   \n",
       "5   Social, Economic, and Technological Implications        Bharat Bhushan   \n",
       "6  Reap all the benefits of the SFMC platform and...          Greg Gifford   \n",
       "7  Write maintainable, flexible, and extensible c...    Dr. Dominik Hauser   \n",
       "8                                                     Aboul Ella Hassanien   \n",
       "9  18th International Forum, IFTC 2021, Shanghai,...         Guangtao Zhai   \n",
       "\n",
       "                           Publisher Publication Year  \n",
       "0                          CRC Press             2022  \n",
       "1                          CRC Press             2022  \n",
       "2                   Packt Publishing             2022  \n",
       "3                            Manning             2022  \n",
       "4                          CRC Press             2022  \n",
       "5                          CRC Press             2022  \n",
       "6                   Packt Publishing             2022  \n",
       "7                   Packt Publishing             2022  \n",
       "8  Springer International Publishing             2022  \n",
       "9                 Springer Singapore             2022  "
      ]
     },
     "execution_count": 20,
     "metadata": {},
     "output_type": "execute_result"
    }
   ],
   "source": [
    "books"
   ]
  },
  {
   "cell_type": "markdown",
   "metadata": {},
   "source": [
    "### store result in Excel"
   ]
  },
  {
   "cell_type": "code",
   "execution_count": 21,
   "metadata": {},
   "outputs": [],
   "source": [
    "books.to_excel('01_books.xlsx', index=False)"
   ]
  },
  {
   "cell_type": "code",
   "execution_count": null,
   "metadata": {},
   "outputs": [],
   "source": []
  },
  {
   "cell_type": "code",
   "execution_count": null,
   "metadata": {},
   "outputs": [],
   "source": []
  }
 ],
 "metadata": {
  "kernelspec": {
   "display_name": "Python 3",
   "language": "python",
   "name": "python3"
  },
  "language_info": {
   "codemirror_mode": {
    "name": "ipython",
    "version": 3
   },
   "file_extension": ".py",
   "mimetype": "text/x-python",
   "name": "python",
   "nbconvert_exporter": "python",
   "pygments_lexer": "ipython3",
   "version": "3.8.5"
  }
 },
 "nbformat": 4,
 "nbformat_minor": 4
}
